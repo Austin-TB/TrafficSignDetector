{
 "cells": [
  {
   "cell_type": "code",
   "execution_count": 1,
   "id": "7866de25",
   "metadata": {
    "execution": {
     "iopub.execute_input": "2023-03-14T15:18:31.503532Z",
     "iopub.status.busy": "2023-03-14T15:18:31.503115Z",
     "iopub.status.idle": "2023-03-14T15:18:40.526827Z",
     "shell.execute_reply": "2023-03-14T15:18:40.525677Z"
    },
    "papermill": {
     "duration": 9.035911,
     "end_time": "2023-03-14T15:18:40.529846",
     "exception": false,
     "start_time": "2023-03-14T15:18:31.493935",
     "status": "completed"
    },
    "tags": []
   },
   "outputs": [],
   "source": [
    "# import libraries\n",
    "import pandas as pd\n",
    "import numpy as np\n",
    "import matplotlib.pyplot as plt\n",
    "import random\n",
    "from mpl_toolkits.mplot3d import Axes3D\n",
    "from sklearn.preprocessing import StandardScaler\n",
    "import os \n",
    "\n",
    "import tensorflow as tf\n",
    "from keras.utils import load_img, img_to_array, to_categorical\n",
    "from keras.layers import Conv2D, MaxPool2D, Flatten, Dense, Dropout\n",
    "from keras.optimizers import Adam\n",
    "from keras import Sequential\n",
    "\n",
    "# import Dataset\n",
    "trn = pd.read_csv('Train.csv')\n",
    "tst = pd.read_csv('Test.csv')"
   ]
  },
  {
   "cell_type": "markdown",
   "id": "c2c6692a",
   "metadata": {
    "papermill": {
     "duration": 0.006116,
     "end_time": "2023-03-14T15:18:40.542721",
     "exception": false,
     "start_time": "2023-03-14T15:18:40.536605",
     "status": "completed"
    },
    "tags": []
   },
   "source": [
    "# Checking the dataset"
   ]
  },
  {
   "cell_type": "markdown",
   "id": "c10aa364",
   "metadata": {},
   "source": [
    "## correlation matrix"
   ]
  },
  {
   "cell_type": "code",
   "execution_count": 2,
   "id": "8715d598",
   "metadata": {},
   "outputs": [],
   "source": [
    "def plotCorrelationMatrix(df, graphWidth):\n",
    "    filename = df.dataframeName\n",
    "    df = df.dropna('columns')\n",
    "    df = df[[col for col in df if df[col].nunique() > 1]] # keep columns where there are more than 1 unique values\n",
    "    if df.shape[1] < 2:\n",
    "        print(f'No correlation plots shown: The number of non-NaN or constant columns ({df.shape[1]}) is less than 2')\n",
    "        return\n",
    "    corr = df.corr()\n",
    "    plt.figure(num=None, figsize=(graphWidth, graphWidth), dpi=80, facecolor='w', edgecolor='k')\n",
    "    corrMat = plt.matshow(corr, fignum = 1)\n",
    "    plt.xticks(range(len(corr.columns)), corr.columns, rotation=90)\n",
    "    plt.yticks(range(len(corr.columns)), corr.columns)\n",
    "    plt.gca().xaxis.tick_bottom()\n",
    "    plt.colorbar(corrMat)\n",
    "    plt.title(f'Correlation Matrix for {filename}', fontsize=15)\n",
    "    plt.show()"
   ]
  },
  {
   "cell_type": "code",
   "execution_count": 3,
   "id": "fed5ce31",
   "metadata": {
    "execution": {
     "iopub.execute_input": "2023-03-14T15:18:40.558218Z",
     "iopub.status.busy": "2023-03-14T15:18:40.557436Z",
     "iopub.status.idle": "2023-03-14T15:18:40.585893Z",
     "shell.execute_reply": "2023-03-14T15:18:40.584756Z"
    },
    "papermill": {
     "duration": 0.040068,
     "end_time": "2023-03-14T15:18:40.589273",
     "exception": false,
     "start_time": "2023-03-14T15:18:40.549205",
     "status": "completed"
    },
    "tags": []
   },
   "outputs": [
    {
     "data": {
      "text/html": [
       "<div>\n",
       "<style scoped>\n",
       "    .dataframe tbody tr th:only-of-type {\n",
       "        vertical-align: middle;\n",
       "    }\n",
       "\n",
       "    .dataframe tbody tr th {\n",
       "        vertical-align: top;\n",
       "    }\n",
       "\n",
       "    .dataframe thead th {\n",
       "        text-align: right;\n",
       "    }\n",
       "</style>\n",
       "<table border=\"1\" class=\"dataframe\">\n",
       "  <thead>\n",
       "    <tr style=\"text-align: right;\">\n",
       "      <th></th>\n",
       "      <th>Width</th>\n",
       "      <th>Height</th>\n",
       "      <th>Roi.X1</th>\n",
       "      <th>Roi.Y1</th>\n",
       "      <th>Roi.X2</th>\n",
       "      <th>Roi.Y2</th>\n",
       "      <th>ClassId</th>\n",
       "      <th>Path</th>\n",
       "    </tr>\n",
       "  </thead>\n",
       "  <tbody>\n",
       "    <tr>\n",
       "      <th>0</th>\n",
       "      <td>27</td>\n",
       "      <td>26</td>\n",
       "      <td>5</td>\n",
       "      <td>5</td>\n",
       "      <td>22</td>\n",
       "      <td>20</td>\n",
       "      <td>20</td>\n",
       "      <td>Train/20/00020_00000_00000.png</td>\n",
       "    </tr>\n",
       "    <tr>\n",
       "      <th>1</th>\n",
       "      <td>28</td>\n",
       "      <td>27</td>\n",
       "      <td>5</td>\n",
       "      <td>6</td>\n",
       "      <td>23</td>\n",
       "      <td>22</td>\n",
       "      <td>20</td>\n",
       "      <td>Train/20/00020_00000_00001.png</td>\n",
       "    </tr>\n",
       "    <tr>\n",
       "      <th>2</th>\n",
       "      <td>29</td>\n",
       "      <td>26</td>\n",
       "      <td>6</td>\n",
       "      <td>5</td>\n",
       "      <td>24</td>\n",
       "      <td>21</td>\n",
       "      <td>20</td>\n",
       "      <td>Train/20/00020_00000_00002.png</td>\n",
       "    </tr>\n",
       "    <tr>\n",
       "      <th>3</th>\n",
       "      <td>28</td>\n",
       "      <td>27</td>\n",
       "      <td>5</td>\n",
       "      <td>6</td>\n",
       "      <td>23</td>\n",
       "      <td>22</td>\n",
       "      <td>20</td>\n",
       "      <td>Train/20/00020_00000_00003.png</td>\n",
       "    </tr>\n",
       "    <tr>\n",
       "      <th>4</th>\n",
       "      <td>28</td>\n",
       "      <td>26</td>\n",
       "      <td>5</td>\n",
       "      <td>5</td>\n",
       "      <td>23</td>\n",
       "      <td>21</td>\n",
       "      <td>20</td>\n",
       "      <td>Train/20/00020_00000_00004.png</td>\n",
       "    </tr>\n",
       "  </tbody>\n",
       "</table>\n",
       "</div>"
      ],
      "text/plain": [
       "   Width  Height  Roi.X1  Roi.Y1  Roi.X2  Roi.Y2  ClassId  \\\n",
       "0     27      26       5       5      22      20       20   \n",
       "1     28      27       5       6      23      22       20   \n",
       "2     29      26       6       5      24      21       20   \n",
       "3     28      27       5       6      23      22       20   \n",
       "4     28      26       5       5      23      21       20   \n",
       "\n",
       "                             Path  \n",
       "0  Train/20/00020_00000_00000.png  \n",
       "1  Train/20/00020_00000_00001.png  \n",
       "2  Train/20/00020_00000_00002.png  \n",
       "3  Train/20/00020_00000_00003.png  \n",
       "4  Train/20/00020_00000_00004.png  "
      ]
     },
     "execution_count": 3,
     "metadata": {},
     "output_type": "execute_result"
    }
   ],
   "source": [
    "trn.head()"
   ]
  },
  {
   "cell_type": "code",
   "execution_count": 4,
   "id": "e38223d0",
   "metadata": {},
   "outputs": [
    {
     "name": "stderr",
     "output_type": "stream",
     "text": [
      "C:\\Users\\hgvjh\\AppData\\Local\\Temp\\ipykernel_8240\\2886335050.py:3: FutureWarning: In a future version of pandas all arguments of DataFrame.dropna will be keyword-only.\n",
      "  df = df.dropna('columns')\n"
     ]
    },
    {
     "data": {
      "image/png": "[encoded data removed]",
      "text/plain": [
       "<Figure size 640x640 with 2 Axes>"
      ]
     },
     "metadata": {},
     "output_type": "display_data"
    }
   ],
   "source": [
    "nRowsRead = 1000\n",
    "trn.dataframeName = 'Train.csv'\n",
    "nRow, nCol = trn.shape\n",
    "plotCorrelationMatrix(trn, 8)"
   ]
  },
  {
   "cell_type": "code",
   "execution_count": 5,
   "id": "ccfc6b7e",
   "metadata": {
    "execution": {
     "iopub.execute_input": "2023-03-14T15:18:40.604781Z",
     "iopub.status.busy": "2023-03-14T15:18:40.604040Z",
     "iopub.status.idle": "2023-03-14T15:18:40.616782Z",
     "shell.execute_reply": "2023-03-14T15:18:40.615368Z"
    },
    "papermill": {
     "duration": 0.023217,
     "end_time": "2023-03-14T15:18:40.619354",
     "exception": false,
     "start_time": "2023-03-14T15:18:40.596137",
     "status": "completed"
    },
    "tags": []
   },
   "outputs": [
    {
     "data": {
      "text/html": [
       "<div>\n",
       "<style scoped>\n",
       "    .dataframe tbody tr th:only-of-type {\n",
       "        vertical-align: middle;\n",
       "    }\n",
       "\n",
       "    .dataframe tbody tr th {\n",
       "        vertical-align: top;\n",
       "    }\n",
       "\n",
       "    .dataframe thead th {\n",
       "        text-align: right;\n",
       "    }\n",
       "</style>\n",
       "<table border=\"1\" class=\"dataframe\">\n",
       "  <thead>\n",
       "    <tr style=\"text-align: right;\">\n",
       "      <th></th>\n",
       "      <th>Width</th>\n",
       "      <th>Height</th>\n",
       "      <th>Roi.X1</th>\n",
       "      <th>Roi.Y1</th>\n",
       "      <th>Roi.X2</th>\n",
       "      <th>Roi.Y2</th>\n",
       "      <th>ClassId</th>\n",
       "      <th>Path</th>\n",
       "    </tr>\n",
       "  </thead>\n",
       "  <tbody>\n",
       "    <tr>\n",
       "      <th>0</th>\n",
       "      <td>53</td>\n",
       "      <td>54</td>\n",
       "      <td>6</td>\n",
       "      <td>5</td>\n",
       "      <td>48</td>\n",
       "      <td>49</td>\n",
       "      <td>16</td>\n",
       "      <td>Test/00000.png</td>\n",
       "    </tr>\n",
       "    <tr>\n",
       "      <th>1</th>\n",
       "      <td>42</td>\n",
       "      <td>45</td>\n",
       "      <td>5</td>\n",
       "      <td>5</td>\n",
       "      <td>36</td>\n",
       "      <td>40</td>\n",
       "      <td>1</td>\n",
       "      <td>Test/00001.png</td>\n",
       "    </tr>\n",
       "    <tr>\n",
       "      <th>2</th>\n",
       "      <td>48</td>\n",
       "      <td>52</td>\n",
       "      <td>6</td>\n",
       "      <td>6</td>\n",
       "      <td>43</td>\n",
       "      <td>47</td>\n",
       "      <td>38</td>\n",
       "      <td>Test/00002.png</td>\n",
       "    </tr>\n",
       "    <tr>\n",
       "      <th>3</th>\n",
       "      <td>27</td>\n",
       "      <td>29</td>\n",
       "      <td>5</td>\n",
       "      <td>5</td>\n",
       "      <td>22</td>\n",
       "      <td>24</td>\n",
       "      <td>33</td>\n",
       "      <td>Test/00003.png</td>\n",
       "    </tr>\n",
       "    <tr>\n",
       "      <th>4</th>\n",
       "      <td>60</td>\n",
       "      <td>57</td>\n",
       "      <td>5</td>\n",
       "      <td>5</td>\n",
       "      <td>55</td>\n",
       "      <td>52</td>\n",
       "      <td>11</td>\n",
       "      <td>Test/00004.png</td>\n",
       "    </tr>\n",
       "  </tbody>\n",
       "</table>\n",
       "</div>"
      ],
      "text/plain": [
       "   Width  Height  Roi.X1  Roi.Y1  Roi.X2  Roi.Y2  ClassId            Path\n",
       "0     53      54       6       5      48      49       16  Test/00000.png\n",
       "1     42      45       5       5      36      40        1  Test/00001.png\n",
       "2     48      52       6       6      43      47       38  Test/00002.png\n",
       "3     27      29       5       5      22      24       33  Test/00003.png\n",
       "4     60      57       5       5      55      52       11  Test/00004.png"
      ]
     },
     "execution_count": 5,
     "metadata": {},
     "output_type": "execute_result"
    }
   ],
   "source": [
    "tst.head()"
   ]
  },
  {
   "cell_type": "code",
   "execution_count": 6,
   "id": "292e3445",
   "metadata": {},
   "outputs": [
    {
     "name": "stderr",
     "output_type": "stream",
     "text": [
      "C:\\Users\\hgvjh\\AppData\\Local\\Temp\\ipykernel_8240\\2886335050.py:3: FutureWarning: In a future version of pandas all arguments of DataFrame.dropna will be keyword-only.\n",
      "  df = df.dropna('columns')\n"
     ]
    },
    {
     "data": {
      "image/png": "[encoded data removed]",
      "text/plain": [
       "<Figure size 640x640 with 2 Axes>"
      ]
     },
     "metadata": {},
     "output_type": "display_data"
    }
   ],
   "source": [
    "nRowsRead = 1000\n",
    "tst.dataframeName = 'Test.csv'\n",
    "nRow, nCol = tst.shape\n",
    "plotCorrelationMatrix(tst, 8)"
   ]
  },
  {
   "cell_type": "code",
   "execution_count": 7,
   "id": "2cffd725",
   "metadata": {
    "execution": {
     "iopub.execute_input": "2023-03-14T15:18:40.635390Z",
     "iopub.status.busy": "2023-03-14T15:18:40.634595Z",
     "iopub.status.idle": "2023-03-14T15:18:40.675668Z",
     "shell.execute_reply": "2023-03-14T15:18:40.673555Z"
    },
    "papermill": {
     "duration": 0.052426,
     "end_time": "2023-03-14T15:18:40.678647",
     "exception": false,
     "start_time": "2023-03-14T15:18:40.626221",
     "status": "completed"
    },
    "tags": []
   },
   "outputs": [
    {
     "name": "stdout",
     "output_type": "stream",
     "text": [
      "<class 'pandas.core.frame.DataFrame'>\n",
      "RangeIndex: 39209 entries, 0 to 39208\n",
      "Data columns (total 8 columns):\n",
      " #   Column   Non-Null Count  Dtype \n",
      "---  ------   --------------  ----- \n",
      " 0   Width    39209 non-null  int64 \n",
      " 1   Height   39209 non-null  int64 \n",
      " 2   Roi.X1   39209 non-null  int64 \n",
      " 3   Roi.Y1   39209 non-null  int64 \n",
      " 4   Roi.X2   39209 non-null  int64 \n",
      " 5   Roi.Y2   39209 non-null  int64 \n",
      " 6   ClassId  39209 non-null  int64 \n",
      " 7   Path     39209 non-null  object\n",
      "dtypes: int64(7), object(1)\n",
      "memory usage: 2.4+ MB\n",
      "\n",
      "\n",
      "<class 'pandas.core.frame.DataFrame'>\n",
      "RangeIndex: 12630 entries, 0 to 12629\n",
      "Data columns (total 8 columns):\n",
      " #   Column   Non-Null Count  Dtype \n",
      "---  ------   --------------  ----- \n",
      " 0   Width    12630 non-null  int64 \n",
      " 1   Height   12630 non-null  int64 \n",
      " 2   Roi.X1   12630 non-null  int64 \n",
      " 3   Roi.Y1   12630 non-null  int64 \n",
      " 4   Roi.X2   12630 non-null  int64 \n",
      " 5   Roi.Y2   12630 non-null  int64 \n",
      " 6   ClassId  12630 non-null  int64 \n",
      " 7   Path     12630 non-null  object\n",
      "dtypes: int64(7), object(1)\n",
      "memory usage: 789.5+ KB\n"
     ]
    },
    {
     "data": {
      "text/plain": [
       "(None, None, None)"
      ]
     },
     "execution_count": 7,
     "metadata": {},
     "output_type": "execute_result"
    }
   ],
   "source": [
    "trn.info(), print('\\n'), tst.info()"
   ]
  },
  {
   "cell_type": "markdown",
   "id": "c37e7072",
   "metadata": {
    "papermill": {
     "duration": 0.006724,
     "end_time": "2023-03-14T15:18:40.692413",
     "exception": false,
     "start_time": "2023-03-14T15:18:40.685689",
     "status": "completed"
    },
    "tags": []
   },
   "source": [
    "## Creating an array with the 43 labels"
   ]
  },
  {
   "cell_type": "code",
   "execution_count": 8,
   "id": "01f20a21",
   "metadata": {
    "execution": {
     "iopub.execute_input": "2023-03-14T15:18:40.708690Z",
     "iopub.status.busy": "2023-03-14T15:18:40.707689Z",
     "iopub.status.idle": "2023-03-14T15:18:40.716541Z",
     "shell.execute_reply": "2023-03-14T15:18:40.715323Z"
    },
    "papermill": {
     "duration": 0.019672,
     "end_time": "2023-03-14T15:18:40.719078",
     "exception": false,
     "start_time": "2023-03-14T15:18:40.699406",
     "status": "completed"
    },
    "tags": []
   },
   "outputs": [],
   "source": [
    "# Creating labels \n",
    "labels = {0:'Speed limit(20km/h)',\n",
    "          1:'Speed limit(30km/h)',\n",
    "          2:'Speed limit(50km/h)',\n",
    "          3:'Speed limit(60km/h)',\n",
    "          4:'Speed limit(70km/h)',\n",
    "          5:'Speed limit(80km/h)',\n",
    "          6:'End of speed limit(80km/h)',\n",
    "          7:'Speed limit(100km/h)',\n",
    "          8:'Speed limit(120km/h)',\n",
    "          9:'No passing',\n",
    "          10:'No passing for vehicles over 3.5 metric tons',\n",
    "          11:'Right-of-way at the next intersection',\n",
    "          12:'Priority road',\n",
    "          13:'Yield',\n",
    "          14:'Stop',\n",
    "          15:'No vehicles',\n",
    "          16:'Vehicles over 3.5 metric tons prohibted',\n",
    "          17:'No entry',\n",
    "          18:'General caution',\n",
    "          19:'Dangerous curve to the left',\n",
    "          20:'Dangerous curve to the right',\n",
    "          21:'Double curve',\n",
    "          22:'Bumpy road',\n",
    "          23:'Slippery road',\n",
    "          24:'Road narrows on the right',\n",
    "          25:'Road work',\n",
    "          26:'Traffic signals',\n",
    "          27:'Pedestrians',\n",
    "          28:'Children crossing',\n",
    "          29:'Bicycles crossing',\n",
    "          30:'Beware of ice/snow',\n",
    "          31:'Wild animals crossing',\n",
    "          32:'End of all speed and passing limits',\n",
    "          33:'Turn right ahead',\n",
    "          34:'Turn left ahead',\n",
    "          35:'Ahead only',\n",
    "          36:'Go straight or right',\n",
    "          37:'Go straight or left',\n",
    "          38:'Keep right',\n",
    "          39:'Keep left',\n",
    "          40:'Roundabout mandatory',\n",
    "          41:'End of no passing',\n",
    "          42:'End of no passing by vehicles over 3.5 metric tons'}"
   ]
  },
  {
   "cell_type": "code",
   "execution_count": 9,
   "id": "16ca5229",
   "metadata": {
    "execution": {
     "iopub.execute_input": "2023-03-14T15:18:40.734793Z",
     "iopub.status.busy": "2023-03-14T15:18:40.734371Z",
     "iopub.status.idle": "2023-03-14T15:18:40.740714Z",
     "shell.execute_reply": "2023-03-14T15:18:40.739817Z"
    },
    "papermill": {
     "duration": 0.016927,
     "end_time": "2023-03-14T15:18:40.742952",
     "exception": false,
     "start_time": "2023-03-14T15:18:40.726025",
     "status": "completed"
    },
    "tags": []
   },
   "outputs": [
    {
     "data": {
      "text/plain": [
       "dict_values(['Speed limit(20km/h)', 'Speed limit(30km/h)', 'Speed limit(50km/h)', 'Speed limit(60km/h)', 'Speed limit(70km/h)', 'Speed limit(80km/h)', 'End of speed limit(80km/h)', 'Speed limit(100km/h)', 'Speed limit(120km/h)', 'No passing', 'No passing for vehicles over 3.5 metric tons', 'Right-of-way at the next intersection', 'Priority road', 'Yield', 'Stop', 'No vehicles', 'Vehicles over 3.5 metric tons prohibted', 'No entry', 'General caution', 'Dangerous curve to the left', 'Dangerous curve to the right', 'Double curve', 'Bumpy road', 'Slippery road', 'Road narrows on the right', 'Road work', 'Traffic signals', 'Pedestrians', 'Children crossing', 'Bicycles crossing', 'Beware of ice/snow', 'Wild animals crossing', 'End of all speed and passing limits', 'Turn right ahead', 'Turn left ahead', 'Ahead only', 'Go straight or right', 'Go straight or left', 'Keep right', 'Keep left', 'Roundabout mandatory', 'End of no passing', 'End of no passing by vehicles over 3.5 metric tons'])"
      ]
     },
     "execution_count": 9,
     "metadata": {},
     "output_type": "execute_result"
    }
   ],
   "source": [
    "labels.values()"
   ]
  },
  {
   "cell_type": "markdown",
   "id": "a86e7978",
   "metadata": {
    "papermill": {
     "duration": 0.006763,
     "end_time": "2023-03-14T15:18:40.756940",
     "exception": false,
     "start_time": "2023-03-14T15:18:40.750177",
     "status": "completed"
    },
    "tags": []
   },
   "source": [
    "## Modifying the train & test data"
   ]
  },
  {
   "cell_type": "code",
   "execution_count": 10,
   "id": "a37760b6",
   "metadata": {
    "execution": {
     "iopub.execute_input": "2023-03-14T15:18:40.773039Z",
     "iopub.status.busy": "2023-03-14T15:18:40.772309Z",
     "iopub.status.idle": "2023-03-14T15:18:40.781396Z",
     "shell.execute_reply": "2023-03-14T15:18:40.780247Z"
    },
    "papermill": {
     "duration": 0.019948,
     "end_time": "2023-03-14T15:18:40.783820",
     "exception": false,
     "start_time": "2023-03-14T15:18:40.763872",
     "status": "completed"
    },
    "tags": []
   },
   "outputs": [],
   "source": [
    "# getting only the Path and ClassId \n",
    "trn = trn[['ClassId', 'Path']]\n",
    "tst = tst[['ClassId', 'Path']]"
   ]
  },
  {
   "cell_type": "code",
   "execution_count": 11,
   "id": "1b0b63c9",
   "metadata": {
    "execution": {
     "iopub.execute_input": "2023-03-14T15:18:40.800706Z",
     "iopub.status.busy": "2023-03-14T15:18:40.800272Z",
     "iopub.status.idle": "2023-03-14T15:18:40.826042Z",
     "shell.execute_reply": "2023-03-14T15:18:40.824779Z"
    },
    "papermill": {
     "duration": 0.037932,
     "end_time": "2023-03-14T15:18:40.828838",
     "exception": false,
     "start_time": "2023-03-14T15:18:40.790906",
     "status": "completed"
    },
    "tags": []
   },
   "outputs": [],
   "source": [
    "# add the complete path\n",
    "trn['Path'] = trn['Path'].apply(lambda x:  x)\n",
    "tst['Path'] = tst['Path'].apply(lambda x: x)"
   ]
  },
  {
   "cell_type": "code",
   "execution_count": 12,
   "id": "d5caeed8",
   "metadata": {
    "execution": {
     "iopub.execute_input": "2023-03-14T15:18:40.845801Z",
     "iopub.status.busy": "2023-03-14T15:18:40.845391Z",
     "iopub.status.idle": "2023-03-14T15:18:40.851484Z",
     "shell.execute_reply": "2023-03-14T15:18:40.850341Z"
    },
    "papermill": {
     "duration": 0.017419,
     "end_time": "2023-03-14T15:18:40.853760",
     "exception": false,
     "start_time": "2023-03-14T15:18:40.836341",
     "status": "completed"
    },
    "tags": []
   },
   "outputs": [
    {
     "name": "stdout",
     "output_type": "stream",
     "text": [
      "The new path of the first image in \"train_df\" : Train/20/00020_00000_00000.png\n",
      "The new path of the first image in \"test_df\" : Test/00000.png\n"
     ]
    }
   ],
   "source": [
    "# Example of the new path in the data\n",
    "print(f'The new path of the first image in \"train_df\" : {trn.Path[0]}')\n",
    "print(f'The new path of the first image in \"test_df\" : {tst.Path[0]}')"
   ]
  },
  {
   "cell_type": "markdown",
   "id": "85fe7f0c",
   "metadata": {
    "papermill": {
     "duration": 0.00712,
     "end_time": "2023-03-14T15:18:40.868100",
     "exception": false,
     "start_time": "2023-03-14T15:18:40.860980",
     "status": "completed"
    },
    "tags": []
   },
   "source": [
    "## Plotting random images"
   ]
  },
  {
   "cell_type": "code",
   "execution_count": 13,
   "id": "a6470714",
   "metadata": {
    "execution": {
     "iopub.execute_input": "2023-03-14T15:18:40.884613Z",
     "iopub.status.busy": "2023-03-14T15:18:40.883877Z",
     "iopub.status.idle": "2023-03-14T15:18:41.015429Z",
     "shell.execute_reply": "2023-03-14T15:18:41.013266Z"
    },
    "papermill": {
     "duration": 0.144445,
     "end_time": "2023-03-14T15:18:41.019803",
     "exception": false,
     "start_time": "2023-03-14T15:18:40.875358",
     "status": "completed"
    },
    "scrolled": false,
    "tags": []
   },
   "outputs": [
    {
     "name": "stdout",
     "output_type": "stream",
     "text": [
      "image shape : (34, 34, 3)\n"
     ]
    },
    {
     "data": {
      "image/png": "[encoded data removed]",
      "text/plain": [
       "<Figure size 800x400 with 1 Axes>"
      ]
     },
     "metadata": {},
     "output_type": "display_data"
    }
   ],
   "source": [
    "# create a random number\n",
    "random_nbr = random.randint(1, len(trn)) # or randint(1, train_df.shape[0]))\n",
    "\n",
    "# read a random image \n",
    "img = plt.imread(trn.Path[random_nbr]) \n",
    "print(f'image shape : {img.shape}')\n",
    "fig, ax = plt.subplots(figsize=(8,4))\n",
    "\n",
    "ax.imshow(img)\n",
    "ax.set_title(labels[trn.ClassId[random_nbr]])\n",
    "ax.axis('off')\n",
    "plt.show()"
   ]
  },
  {
   "cell_type": "markdown",
   "id": "2b10e148",
   "metadata": {
    "papermill": {
     "duration": 0.019105,
     "end_time": "2023-03-14T15:18:41.057729",
     "exception": false,
     "start_time": "2023-03-14T15:18:41.038624",
     "status": "completed"
    },
    "tags": []
   },
   "source": [
    "## Preprocessing the images"
   ]
  },
  {
   "cell_type": "code",
   "execution_count": 14,
   "id": "77f4c114",
   "metadata": {
    "execution": {
     "iopub.execute_input": "2023-03-14T15:18:41.086203Z",
     "iopub.status.busy": "2023-03-14T15:18:41.085809Z",
     "iopub.status.idle": "2023-03-14T15:25:21.387756Z",
     "shell.execute_reply": "2023-03-14T15:25:21.386244Z"
    },
    "papermill": {
     "duration": 400.313825,
     "end_time": "2023-03-14T15:25:21.390928",
     "exception": false,
     "start_time": "2023-03-14T15:18:41.077103",
     "status": "completed"
    },
    "tags": []
   },
   "outputs": [],
   "source": [
    "# Split the data into training and validation sets\n",
    "train_data = trn.sample(frac=0.8, random_state=0)\n",
    "valid_data = trn.drop(trn.index)\n",
    "\n",
    "\n",
    "# Preprocess the data\n",
    "IMG_SIZE = 32\n",
    "NUM_CLASSES = len(labels)\n",
    "\n",
    "def preprocess_data(df):\n",
    "    X = []\n",
    "    y = []\n",
    "    for index, row in df.iterrows():\n",
    "        img = load_img(row.Path, target_size=(IMG_SIZE, IMG_SIZE))\n",
    "        img_array = img_to_array(img) / 255.0\n",
    "        X.append(img_array)\n",
    "        y.append(to_categorical(row.ClassId, num_classes=NUM_CLASSES))\n",
    "    return np.array(X), np.array(y)\n",
    "\n",
    "X_train, y_train = preprocess_data(train_data)\n",
    "X_valid, y_valid = preprocess_data(valid_data)\n",
    "X_test, y_test = preprocess_data(tst)"
   ]
  },
  {
   "cell_type": "code",
   "execution_count": 15,
   "id": "3a049554",
   "metadata": {
    "execution": {
     "iopub.execute_input": "2023-03-14T15:25:21.408641Z",
     "iopub.status.busy": "2023-03-14T15:25:21.407961Z",
     "iopub.status.idle": "2023-03-14T15:25:21.414870Z",
     "shell.execute_reply": "2023-03-14T15:25:21.412817Z"
    },
    "papermill": {
     "duration": 0.019434,
     "end_time": "2023-03-14T15:25:21.418137",
     "exception": false,
     "start_time": "2023-03-14T15:25:21.398703",
     "status": "completed"
    },
    "tags": []
   },
   "outputs": [
    {
     "name": "stdout",
     "output_type": "stream",
     "text": [
      "The shape of X_train : (31367, 32, 32, 3)\n",
      "The shape of X_test : (31367, 43)\n"
     ]
    }
   ],
   "source": [
    "print(f'The shape of X_train : {X_train.shape}')\n",
    "print(f'The shape of X_test : {y_train.shape}')"
   ]
  },
  {
   "cell_type": "markdown",
   "id": "ac8620d7",
   "metadata": {
    "papermill": {
     "duration": 0.007638,
     "end_time": "2023-03-14T15:25:21.434027",
     "exception": false,
     "start_time": "2023-03-14T15:25:21.426389",
     "status": "completed"
    },
    "tags": []
   },
   "source": [
    "# Building the model"
   ]
  },
  {
   "cell_type": "markdown",
   "id": "1c993e1d",
   "metadata": {
    "papermill": {
     "duration": 0.007632,
     "end_time": "2023-03-14T15:25:21.449509",
     "exception": false,
     "start_time": "2023-03-14T15:25:21.441877",
     "status": "completed"
    },
    "tags": []
   },
   "source": [
    "## Model"
   ]
  },
  {
   "cell_type": "code",
   "execution_count": 16,
   "id": "53cfd701",
   "metadata": {
    "execution": {
     "iopub.execute_input": "2023-03-14T15:25:21.467241Z",
     "iopub.status.busy": "2023-03-14T15:25:21.466796Z",
     "iopub.status.idle": "2023-03-14T15:25:21.785281Z",
     "shell.execute_reply": "2023-03-14T15:25:21.783955Z"
    },
    "papermill": {
     "duration": 0.33111,
     "end_time": "2023-03-14T15:25:21.788360",
     "exception": false,
     "start_time": "2023-03-14T15:25:21.457250",
     "status": "completed"
    },
    "tags": []
   },
   "outputs": [],
   "source": [
    "# Definition of the model architecture (CNN)\n",
    "model = Sequential([\n",
    "    Conv2D(filters=32, kernel_size=3, activation='relu', input_shape=(IMG_SIZE, IMG_SIZE, 3)),\n",
    "    Conv2D(64, 3, activation='relu'),\n",
    "    MaxPool2D(2),\n",
    "    Conv2D(128, 3, activation='relu'),\n",
    "    Conv2D(64, 3, activation='relu'),\n",
    "    MaxPool2D(2),\n",
    "    Flatten(),\n",
    "    Dropout(0.5),\n",
    "    Dense(128, activation='relu'),\n",
    "    Dense(NUM_CLASSES, activation='softmax')\n",
    "])\n",
    "\n",
    "model.compile(loss='categorical_crossentropy',optimizer=Adam(),metrics=['accuracy'])"
   ]
  },
  {
   "cell_type": "markdown",
   "id": "a4f8319a",
   "metadata": {},
   "source": [
    "### Visual representation of the CNN model"
   ]
  },
  {
   "cell_type": "code",
   "execution_count": 17,
   "id": "8029c91a",
   "metadata": {},
   "outputs": [
    {
     "data": {
      "image/png": "[encoded data removed]",
      "text/plain": [
       "<PIL.Image.Image image mode=RGBA size=614x196>"
      ]
     },
     "execution_count": 17,
     "metadata": {},
     "output_type": "execute_result"
    }
   ],
   "source": [
    "import visualkeras\n",
    "from PIL import ImageFont\n",
    "visualkeras.layered_view(model, legend=True)"
   ]
  },
  {
   "cell_type": "code",
   "execution_count": 18,
   "id": "f1e6fd06",
   "metadata": {
    "execution": {
     "iopub.execute_input": "2023-03-14T15:25:21.806572Z",
     "iopub.status.busy": "2023-03-14T15:25:21.805839Z",
     "iopub.status.idle": "2023-03-14T15:25:21.845023Z",
     "shell.execute_reply": "2023-03-14T15:25:21.843776Z"
    },
    "papermill": {
     "duration": 0.060881,
     "end_time": "2023-03-14T15:25:21.857304",
     "exception": false,
     "start_time": "2023-03-14T15:25:21.796423",
     "status": "completed"
    },
    "tags": []
   },
   "outputs": [
    {
     "name": "stdout",
     "output_type": "stream",
     "text": [
      "Model: \"sequential\"\n",
      "_________________________________________________________________\n",
      " Layer (type)                Output Shape              Param #   \n",
      "=================================================================\n",
      " conv2d (Conv2D)             (None, 30, 30, 32)        896       \n",
      "                                                                 \n",
      " conv2d_1 (Conv2D)           (None, 28, 28, 64)        18496     \n",
      "                                                                 \n",
      " max_pooling2d (MaxPooling2D  (None, 14, 14, 64)       0         \n",
      " )                                                               \n",
      "                                                                 \n",
      " conv2d_2 (Conv2D)           (None, 12, 12, 128)       73856     \n",
      "                                                                 \n",
      " conv2d_3 (Conv2D)           (None, 10, 10, 64)        73792     \n",
      "                                                                 \n",
      " max_pooling2d_1 (MaxPooling  (None, 5, 5, 64)         0         \n",
      " 2D)                                                             \n",
      "                                                                 \n",
      " flatten (Flatten)           (None, 1600)              0         \n",
      "                                                                 \n",
      " dropout (Dropout)           (None, 1600)              0         \n",
      "                                                                 \n",
      " dense (Dense)               (None, 128)               204928    \n",
      "                                                                 \n",
      " dense_1 (Dense)             (None, 43)                5547      \n",
      "                                                                 \n",
      "=================================================================\n",
      "Total params: 377,515\n",
      "Trainable params: 377,515\n",
      "Non-trainable params: 0\n",
      "_________________________________________________________________\n"
     ]
    }
   ],
   "source": [
    "model.summary()"
   ]
  },
  {
   "cell_type": "code",
   "execution_count": 19,
   "id": "02059073",
   "metadata": {},
   "outputs": [],
   "source": [
    "model.save('model.h5') #saving the model for furthur uses"
   ]
  },
  {
   "cell_type": "markdown",
   "id": "df1bff28",
   "metadata": {
    "papermill": {
     "duration": 0.009699,
     "end_time": "2023-03-14T15:25:21.876616",
     "exception": false,
     "start_time": "2023-03-14T15:25:21.866917",
     "status": "completed"
    },
    "tags": []
   },
   "source": [
    "### Fit the model"
   ]
  },
  {
   "cell_type": "code",
   "execution_count": 20,
   "id": "36833a86",
   "metadata": {
    "execution": {
     "iopub.execute_input": "2023-03-14T15:25:21.897680Z",
     "iopub.status.busy": "2023-03-14T15:25:21.897226Z",
     "iopub.status.idle": "2023-03-14T15:33:47.474121Z",
     "shell.execute_reply": "2023-03-14T15:33:47.473067Z"
    },
    "papermill": {
     "duration": 505.590619,
     "end_time": "2023-03-14T15:33:47.476891",
     "exception": false,
     "start_time": "2023-03-14T15:25:21.886272",
     "status": "completed"
    },
    "tags": []
   },
   "outputs": [
    {
     "name": "stdout",
     "output_type": "stream",
     "text": [
      "Epoch 1/5\n",
      "981/981 [==============================] - 12s 7ms/step - loss: 1.0275 - accuracy: 0.7056\n",
      "Epoch 2/5\n",
      "981/981 [==============================] - 7s 7ms/step - loss: 0.1723 - accuracy: 0.9469\n",
      "Epoch 3/5\n",
      "981/981 [==============================] - 7s 7ms/step - loss: 0.1062 - accuracy: 0.9677\n",
      "Epoch 4/5\n",
      "981/981 [==============================] - 8s 8ms/step - loss: 0.0805 - accuracy: 0.9754\n",
      "Epoch 5/5\n",
      "981/981 [==============================] - 8s 8ms/step - loss: 0.0641 - accuracy: 0.9801\n"
     ]
    }
   ],
   "source": [
    "# fit the model\n",
    "fitmodel = model.fit(X_train, \n",
    "                    y_train, \n",
    "                    epochs=5)"
   ]
  },
  {
   "cell_type": "markdown",
   "id": "98e3b42f",
   "metadata": {
    "papermill": {
     "duration": 0.31447,
     "end_time": "2023-03-14T15:33:48.169742",
     "exception": false,
     "start_time": "2023-03-14T15:33:47.855272",
     "status": "completed"
    },
    "tags": []
   },
   "source": [
    "### Evaluating the model\n"
   ]
  },
  {
   "cell_type": "code",
   "execution_count": 21,
   "id": "99f31fc7",
   "metadata": {},
   "outputs": [
    {
     "name": "stdout",
     "output_type": "stream",
     "text": [
      "395/395 [==============================] - 3s 5ms/step - loss: 0.1828 - accuracy: 0.9527\n"
     ]
    }
   ],
   "source": [
    "loss, accuracy = model.evaluate(X_test, y_test)"
   ]
  },
  {
   "cell_type": "code",
   "execution_count": 22,
   "id": "a602c6e6",
   "metadata": {},
   "outputs": [
    {
     "name": "stdout",
     "output_type": "stream",
     "text": [
      "Testing Accuracy: 95.27%\n"
     ]
    }
   ],
   "source": [
    "print(\"Testing Accuracy: {:.2f}%\".format(accuracy * 100))\n"
   ]
  },
  {
   "cell_type": "markdown",
   "id": "1839821f",
   "metadata": {
    "papermill": {
     "duration": 0.330743,
     "end_time": "2023-03-14T15:34:01.234566",
     "exception": false,
     "start_time": "2023-03-14T15:34:00.903823",
     "status": "completed"
    },
    "tags": []
   },
   "source": [
    "### Predicting and plottting the results obtained from the model"
   ]
  },
  {
   "cell_type": "code",
   "execution_count": 23,
   "id": "8553a173",
   "metadata": {
    "execution": {
     "iopub.execute_input": "2023-03-14T15:34:01.896554Z",
     "iopub.status.busy": "2023-03-14T15:34:01.896124Z",
     "iopub.status.idle": "2023-03-14T15:34:12.725312Z",
     "shell.execute_reply": "2023-03-14T15:34:12.724441Z"
    },
    "papermill": {
     "duration": 11.165753,
     "end_time": "2023-03-14T15:34:12.728405",
     "exception": false,
     "start_time": "2023-03-14T15:34:01.562652",
     "status": "completed"
    },
    "tags": []
   },
   "outputs": [
    {
     "name": "stdout",
     "output_type": "stream",
     "text": [
      "395/395 [==============================] - 1s 3ms/step\n"
     ]
    },
    {
     "data": {
      "image/png": "[encoded data removed]",
      "text/plain": [
       "<Figure size 2000x1200 with 9 Axes>"
      ]
     },
     "metadata": {},
     "output_type": "display_data"
    }
   ],
   "source": [
    "# generate 9 random numbers\n",
    "rand_img = random.sample(range(len(X_test)), 9)\n",
    "\n",
    "# Get the predicted labels for the test data\n",
    "y_pred = model.predict(X_test)\n",
    "\n",
    "# Plot the images and the predicted labels\n",
    "fig, axs = plt.subplots(3, 3, figsize=(20, 12))\n",
    "axs = axs.ravel()\n",
    "for i in range(9):\n",
    "  # Plot the image\n",
    "  axs[i].imshow(X_test[rand_img[i]], cmap=plt.cm.binary)\n",
    "\n",
    "  # Get the predicted and actual label indices\n",
    "  pred_label = np.argmax(y_pred[rand_img[i]])\n",
    "  true_label = np.argmax(y_test[rand_img[i]])\n",
    "\n",
    "  if pred_label == true_label:\n",
    "     color = \"green\"\n",
    "  else:\n",
    "     color = \"red\"\n",
    "\n",
    "  # Set the label text\n",
    "  axs[i].set_title(\"Pred: {} {:2.0f}% \\n(True: {})\".format(labels[pred_label],100*tf.reduce_max(y_pred),labels[true_label]),\n",
    "             color=color)\n",
    "  axs[i].axis('off')\n",
    "plt.show()"
   ]
  },
  {
   "cell_type": "code",
   "execution_count": 24,
   "id": "36431478",
   "metadata": {},
   "outputs": [
    {
     "name": "stdout",
     "output_type": "stream",
     "text": [
      "image shape : (34, 34, 3)\n"
     ]
    }
   ],
   "source": [
    "img = plt.imread(trn.Path[random_nbr]) # read the image from the path\n",
    "print(f'image shape : {img.shape}')"
   ]
  }
 ],
 "metadata": {
  "kernelspec": {
   "display_name": "Python 3 (ipykernel)",
   "language": "python",
   "name": "python3"
  },
  "language_info": {
   "codemirror_mode": {
    "name": "ipython",
    "version": 3
   },
   "file_extension": ".py",
   "mimetype": "text/x-python",
   "name": "python",
   "nbconvert_exporter": "python",
   "pygments_lexer": "ipython3",
   "version": "3.9.13"
  },
  "papermill": {
   "default_parameters": {},
   "duration": 955.260763,
   "end_time": "2023-03-14T15:34:16.721313",
   "environment_variables": {},
   "exception": null,
   "input_path": "__notebook__.ipynb",
   "output_path": "__notebook__.ipynb",
   "parameters": {},
   "start_time": "2023-03-14T15:18:21.460550",
   "version": "2.4.0"
  }
 },
 "nbformat": 4,
 "nbformat_minor": 5
}
